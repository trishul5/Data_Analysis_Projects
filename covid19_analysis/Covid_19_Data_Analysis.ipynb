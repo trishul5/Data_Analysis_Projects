{
 "cells": [
  {
   "cell_type": "code",
   "execution_count": 1,
   "metadata": {},
   "outputs": [],
   "source": [
    "# Following exercises from this video: https://www.youtube.com/watch?v=89eYAAPyRfo&list=PLy3lFw0OTlutzXFVwttrtaRGEEyLEdnpy&index=4"
   ]
  },
  {
   "cell_type": "code",
   "execution_count": 26,
   "metadata": {},
   "outputs": [],
   "source": [
    "# Importing necessary libraries\n",
    "import pandas as pd\n",
    "from matplotlib import pyplot as plt"
   ]
  },
  {
   "cell_type": "code",
   "execution_count": 3,
   "metadata": {},
   "outputs": [
    {
     "data": {
      "text/html": [
       "<div>\n",
       "<style scoped>\n",
       "    .dataframe tbody tr th:only-of-type {\n",
       "        vertical-align: middle;\n",
       "    }\n",
       "\n",
       "    .dataframe tbody tr th {\n",
       "        vertical-align: top;\n",
       "    }\n",
       "\n",
       "    .dataframe thead th {\n",
       "        text-align: right;\n",
       "    }\n",
       "</style>\n",
       "<table border=\"1\" class=\"dataframe\">\n",
       "  <thead>\n",
       "    <tr style=\"text-align: right;\">\n",
       "      <th></th>\n",
       "      <th>Date</th>\n",
       "      <th>State</th>\n",
       "      <th>Region</th>\n",
       "      <th>Confirmed</th>\n",
       "      <th>Deaths</th>\n",
       "      <th>Recovered</th>\n",
       "    </tr>\n",
       "  </thead>\n",
       "  <tbody>\n",
       "    <tr>\n",
       "      <td>0</td>\n",
       "      <td>4/29/2020</td>\n",
       "      <td>NaN</td>\n",
       "      <td>Afghanistan</td>\n",
       "      <td>1939</td>\n",
       "      <td>60</td>\n",
       "      <td>252</td>\n",
       "    </tr>\n",
       "    <tr>\n",
       "      <td>1</td>\n",
       "      <td>4/29/2020</td>\n",
       "      <td>NaN</td>\n",
       "      <td>Albania</td>\n",
       "      <td>766</td>\n",
       "      <td>30</td>\n",
       "      <td>455</td>\n",
       "    </tr>\n",
       "    <tr>\n",
       "      <td>2</td>\n",
       "      <td>4/29/2020</td>\n",
       "      <td>NaN</td>\n",
       "      <td>Algeria</td>\n",
       "      <td>3848</td>\n",
       "      <td>444</td>\n",
       "      <td>1702</td>\n",
       "    </tr>\n",
       "    <tr>\n",
       "      <td>3</td>\n",
       "      <td>4/29/2020</td>\n",
       "      <td>NaN</td>\n",
       "      <td>Andorra</td>\n",
       "      <td>743</td>\n",
       "      <td>42</td>\n",
       "      <td>423</td>\n",
       "    </tr>\n",
       "    <tr>\n",
       "      <td>4</td>\n",
       "      <td>4/29/2020</td>\n",
       "      <td>NaN</td>\n",
       "      <td>Angola</td>\n",
       "      <td>27</td>\n",
       "      <td>2</td>\n",
       "      <td>7</td>\n",
       "    </tr>\n",
       "    <tr>\n",
       "      <td>...</td>\n",
       "      <td>...</td>\n",
       "      <td>...</td>\n",
       "      <td>...</td>\n",
       "      <td>...</td>\n",
       "      <td>...</td>\n",
       "      <td>...</td>\n",
       "    </tr>\n",
       "    <tr>\n",
       "      <td>316</td>\n",
       "      <td>4/29/2020</td>\n",
       "      <td>Wyoming</td>\n",
       "      <td>US</td>\n",
       "      <td>545</td>\n",
       "      <td>7</td>\n",
       "      <td>0</td>\n",
       "    </tr>\n",
       "    <tr>\n",
       "      <td>317</td>\n",
       "      <td>4/29/2020</td>\n",
       "      <td>Xinjiang</td>\n",
       "      <td>Mainland China</td>\n",
       "      <td>76</td>\n",
       "      <td>3</td>\n",
       "      <td>73</td>\n",
       "    </tr>\n",
       "    <tr>\n",
       "      <td>318</td>\n",
       "      <td>4/29/2020</td>\n",
       "      <td>Yukon</td>\n",
       "      <td>Canada</td>\n",
       "      <td>11</td>\n",
       "      <td>0</td>\n",
       "      <td>0</td>\n",
       "    </tr>\n",
       "    <tr>\n",
       "      <td>319</td>\n",
       "      <td>4/29/2020</td>\n",
       "      <td>Yunnan</td>\n",
       "      <td>Mainland China</td>\n",
       "      <td>185</td>\n",
       "      <td>2</td>\n",
       "      <td>181</td>\n",
       "    </tr>\n",
       "    <tr>\n",
       "      <td>320</td>\n",
       "      <td>4/29/2020</td>\n",
       "      <td>Zhejiang</td>\n",
       "      <td>Mainland China</td>\n",
       "      <td>1268</td>\n",
       "      <td>1</td>\n",
       "      <td>1263</td>\n",
       "    </tr>\n",
       "  </tbody>\n",
       "</table>\n",
       "<p>321 rows × 6 columns</p>\n",
       "</div>"
      ],
      "text/plain": [
       "          Date     State          Region  Confirmed  Deaths  Recovered\n",
       "0    4/29/2020       NaN     Afghanistan       1939      60        252\n",
       "1    4/29/2020       NaN         Albania        766      30        455\n",
       "2    4/29/2020       NaN         Algeria       3848     444       1702\n",
       "3    4/29/2020       NaN         Andorra        743      42        423\n",
       "4    4/29/2020       NaN          Angola         27       2          7\n",
       "..         ...       ...             ...        ...     ...        ...\n",
       "316  4/29/2020   Wyoming              US        545       7          0\n",
       "317  4/29/2020  Xinjiang  Mainland China         76       3         73\n",
       "318  4/29/2020     Yukon          Canada         11       0          0\n",
       "319  4/29/2020    Yunnan  Mainland China        185       2        181\n",
       "320  4/29/2020  Zhejiang  Mainland China       1268       1       1263\n",
       "\n",
       "[321 rows x 6 columns]"
      ]
     },
     "execution_count": 3,
     "metadata": {},
     "output_type": "execute_result"
    }
   ],
   "source": [
    "# Reading in dataset and storing it in variable\n",
    "dataset_path = \"/Users/trishulsathiyamoorthy/Desktop/data_analysis/covid19_analysis/covid.csv\"\n",
    "covid = pd.read_csv(dataset_path)\n",
    "covid"
   ]
  },
  {
   "cell_type": "code",
   "execution_count": 4,
   "metadata": {},
   "outputs": [
    {
     "data": {
      "text/plain": [
       "Date           0\n",
       "State        181\n",
       "Region         0\n",
       "Confirmed      0\n",
       "Deaths         0\n",
       "Recovered      0\n",
       "dtype: int64"
      ]
     },
     "execution_count": 4,
     "metadata": {},
     "output_type": "execute_result"
    }
   ],
   "source": [
    "# Finding total amount of nulls in dataset\n",
    "covid.isnull().sum()"
   ]
  },
  {
   "cell_type": "code",
   "execution_count": 5,
   "metadata": {},
   "outputs": [
    {
     "data": {
      "text/plain": [
       "Date         object\n",
       "State        object\n",
       "Region       object\n",
       "Confirmed     int64\n",
       "Deaths        int64\n",
       "Recovered     int64\n",
       "dtype: object"
      ]
     },
     "execution_count": 5,
     "metadata": {},
     "output_type": "execute_result"
    }
   ],
   "source": [
    "# Finding column types\n",
    "covid.dtypes"
   ]
  },
  {
   "cell_type": "code",
   "execution_count": 11,
   "metadata": {},
   "outputs": [],
   "source": [
    "# Finding the time frame dataset was recorded through\n",
    "covid[\"Date\"] = pd.to_datetime(covid[\"Date\"])\n",
    "beginning = min(covid[\"Date\"])\n",
    "end = max(covid[\"Date\"])"
   ]
  },
  {
   "cell_type": "code",
   "execution_count": 16,
   "metadata": {},
   "outputs": [
    {
     "data": {
      "text/plain": [
       "Region\n",
       "Afghanistan            252\n",
       "Albania                455\n",
       "Algeria               1702\n",
       "Andorra                423\n",
       "Angola                   7\n",
       "                      ... \n",
       "West Bank and Gaza      71\n",
       "Western Sahara           5\n",
       "Yemen                    1\n",
       "Zambia                  54\n",
       "Zimbabwe                 5\n",
       "Name: Recovered, Length: 187, dtype: int64"
      ]
     },
     "execution_count": 16,
     "metadata": {},
     "output_type": "execute_result"
    }
   ],
   "source": [
    "# Finding total recovered patients in each region\n",
    "covid.groupby(covid[\"Region\"])[\"Recovered\"].sum()"
   ]
  },
  {
   "cell_type": "code",
   "execution_count": 21,
   "metadata": {},
   "outputs": [
    {
     "data": {
      "text/plain": [
       "'US'"
      ]
     },
     "execution_count": 21,
     "metadata": {},
     "output_type": "execute_result"
    }
   ],
   "source": [
    "# Finding the region that had the most deaths on 4/29/20\n",
    "region_with_most_deaths = covid.groupby(covid[\"Region\"])[\"Deaths\"].sum().idxmax()\n",
    "region_with_most_deaths"
   ]
  },
  {
   "cell_type": "code",
   "execution_count": 23,
   "metadata": {},
   "outputs": [
    {
     "data": {
      "text/plain": [
       "'MS Zaandam'"
      ]
     },
     "execution_count": 23,
     "metadata": {},
     "output_type": "execute_result"
    }
   ],
   "source": [
    "region_with_fewest_recoveries = covid.groupby(covid[\"Region\"])[\"Recovered\"].sum().idxmin()\n",
    "region_with_fewest_recoveries"
   ]
  },
  {
   "cell_type": "code",
   "execution_count": 36,
   "metadata": {},
   "outputs": [
    {
     "data": {
      "text/plain": [
       "State\n",
       "Alabama                           256\n",
       "Alaska                              9\n",
       "Arizona                           308\n",
       "Arkansas                           57\n",
       "California                       1946\n",
       "Colorado                          766\n",
       "Connecticut                      2169\n",
       "Delaware                          144\n",
       "Diamond Princess cruise ship        0\n",
       "District of Columbia              205\n",
       "Florida                          1218\n",
       "Georgia                          1101\n",
       "Grand Princess                      3\n",
       "Guam                                5\n",
       "Hawaii                             16\n",
       "Idaho                              60\n",
       "Illinois                         2215\n",
       "Indiana                           964\n",
       "Iowa                              148\n",
       "Kansas                            134\n",
       "Kentucky                          234\n",
       "Louisiana                        1845\n",
       "Maine                              52\n",
       "Maryland                         1078\n",
       "Massachusetts                    3405\n",
       "Michigan                         3670\n",
       "Minnesota                         319\n",
       "Mississippi                       250\n",
       "Missouri                          338\n",
       "Montana                            16\n",
       "Nebraska                           56\n",
       "Nevada                            230\n",
       "New Hampshire                      60\n",
       "New Jersey                       6771\n",
       "New Mexico                        112\n",
       "New York                        23477\n",
       "North Carolina                    382\n",
       "North Dakota                       19\n",
       "Northern Mariana Islands            2\n",
       "Ohio                              937\n",
       "Oklahoma                          214\n",
       "Oregon                            101\n",
       "Pennsylvania                     2373\n",
       "Puerto Rico                        86\n",
       "Recovered                           0\n",
       "Rhode Island                      251\n",
       "South Carolina                    231\n",
       "South Dakota                       13\n",
       "Tennessee                         195\n",
       "Texas                             754\n",
       "Utah                               45\n",
       "Vermont                            47\n",
       "Virgin Islands                      4\n",
       "Virginia                          522\n",
       "Washington                        801\n",
       "West Virginia                      38\n",
       "Wisconsin                         308\n",
       "Wyoming                             7\n",
       "Name: Deaths, dtype: int64"
      ]
     },
     "execution_count": 36,
     "metadata": {},
     "output_type": "execute_result"
    }
   ],
   "source": [
    "# Find the total amount of deaths that have occurred in each state within the United States\n",
    "us_cases = covid[covid[\"Region\"] == \"US\"]\n",
    "us_cases.groupby(us_cases[\"State\"])[\"Deaths\"].sum()"
   ]
  },
  {
   "cell_type": "code",
   "execution_count": 45,
   "metadata": {},
   "outputs": [
    {
     "data": {
      "text/plain": [
       "<matplotlib.axes._subplots.AxesSubplot at 0x7fbd87f11b38>"
      ]
     },
     "execution_count": 45,
     "metadata": {},
     "output_type": "execute_result"
    },
    {
     "data": {
      "image/png": "[encoded data removed]",
      "text/plain": [
       "<Figure size 432x288 with 1 Axes>"
      ]
     },
     "metadata": {
      "needs_background": "light"
     },
     "output_type": "display_data"
    }
   ],
   "source": [
    "china_covid_data = covid[covid[\"Region\"] == \"Mainland China\"]\n",
    "china_covid_data.groupby(\"State\")[\"Deaths\"].sum().plot(kind=\"bar\")"
   ]
  },
  {
   "cell_type": "code",
   "execution_count": null,
   "metadata": {},
   "outputs": [],
   "source": []
  }
 ],
 "metadata": {
  "kernelspec": {
   "display_name": "Python 3",
   "language": "python",
   "name": "python3"
  },
  "language_info": {
   "codemirror_mode": {
    "name": "ipython",
    "version": 3
   },
   "file_extension": ".py",
   "mimetype": "text/x-python",
   "name": "python",
   "nbconvert_exporter": "python",
   "pygments_lexer": "ipython3",
   "version": "3.7.3"
  }
 },
 "nbformat": 4,
 "nbformat_minor": 2
}
